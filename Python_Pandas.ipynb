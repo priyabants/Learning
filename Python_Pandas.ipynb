{
  "nbformat": 4,
  "nbformat_minor": 0,
  "metadata": {
    "colab": {
      "name": "Python Pandas.ipynb",
      "provenance": [],
      "collapsed_sections": [],
      "authorship_tag": "ABX9TyMy4YLuwiAb2lWeH0j0h/Qe",
      "include_colab_link": true
    },
    "kernelspec": {
      "name": "python3",
      "display_name": "Python 3"
    },
    "language_info": {
      "name": "python"
    }
  },
  "cells": [
    {
      "cell_type": "markdown",
      "metadata": {
        "id": "view-in-github",
        "colab_type": "text"
      },
      "source": [
        "<a href=\"https://colab.research.google.com/github/priyabants/Learning/blob/main/Python_Pandas.ipynb\" target=\"_parent\"><img src=\"https://colab.research.google.com/assets/colab-badge.svg\" alt=\"Open In Colab\"/></a>"
      ]
    },
    {
      "cell_type": "code",
      "metadata": {
        "id": "bHyjhmDgGhLq"
      },
      "source": [
        ""
      ],
      "execution_count": null,
      "outputs": []
    },
    {
      "cell_type": "markdown",
      "metadata": {
        "id": "zsMMNgSVGoy2"
      },
      "source": [
        "###1. Import python package"
      ]
    },
    {
      "cell_type": "code",
      "metadata": {
        "id": "Y4Sgk_8nHOhV"
      },
      "source": [
        "#Import python package\n",
        "import pandas as pd\n",
        "import numpy as np"
      ],
      "execution_count": null,
      "outputs": []
    },
    {
      "cell_type": "code",
      "metadata": {
        "id": "H5UWRh_uWFUe",
        "colab": {
          "base_uri": "https://localhost:8080/"
        },
        "outputId": "9e52f6bc-4724-4de0-9dd8-ec745ef9b459"
      },
      "source": [
        "#create a series in Pandas\n",
        "x = pd.Series([1,2,3,4],index=['a','b','c','d'])\n",
        "print(x)"
      ],
      "execution_count": null,
      "outputs": [
        {
          "output_type": "stream",
          "text": [
            "a    1\n",
            "b    2\n",
            "c    3\n",
            "d    4\n",
            "dtype: int64\n"
          ],
          "name": "stdout"
        }
      ]
    },
    {
      "cell_type": "code",
      "metadata": {
        "colab": {
          "base_uri": "https://localhost:8080/"
        },
        "id": "MGTqV86kW_tE",
        "outputId": "be84fdfb-c6b9-4ad4-c4f9-e33bbc695884"
      },
      "source": [
        "#create a python dictionary with age and name of people\n",
        "age_data = {\n",
        "    'name':['Tom','Dick','Harry'],\n",
        "    'age':[20,30,40]\n",
        "}\n",
        "print(age_data)"
      ],
      "execution_count": null,
      "outputs": [
        {
          "output_type": "stream",
          "text": [
            "{'name': ['Tom', 'Dick', 'Harry'], 'age': [20, 30, 40]}\n"
          ],
          "name": "stdout"
        }
      ]
    },
    {
      "cell_type": "code",
      "metadata": {
        "colab": {
          "base_uri": "https://localhost:8080/",
          "height": 142
        },
        "id": "Um6qMgBwXkiN",
        "outputId": "00cc5072-4734-43ca-9903-a154d8dae8f7"
      },
      "source": [
        "#create a dataframe in pandas\n",
        "df=pd.DataFrame(data=age_data, columns=[\"name\",\"age\"])\n",
        "df"
      ],
      "execution_count": null,
      "outputs": [
        {
          "output_type": "execute_result",
          "data": {
            "text/html": [
              "<div>\n",
              "<style scoped>\n",
              "    .dataframe tbody tr th:only-of-type {\n",
              "        vertical-align: middle;\n",
              "    }\n",
              "\n",
              "    .dataframe tbody tr th {\n",
              "        vertical-align: top;\n",
              "    }\n",
              "\n",
              "    .dataframe thead th {\n",
              "        text-align: right;\n",
              "    }\n",
              "</style>\n",
              "<table border=\"1\" class=\"dataframe\">\n",
              "  <thead>\n",
              "    <tr style=\"text-align: right;\">\n",
              "      <th></th>\n",
              "      <th>name</th>\n",
              "      <th>age</th>\n",
              "    </tr>\n",
              "  </thead>\n",
              "  <tbody>\n",
              "    <tr>\n",
              "      <th>0</th>\n",
              "      <td>Tom</td>\n",
              "      <td>20</td>\n",
              "    </tr>\n",
              "    <tr>\n",
              "      <th>1</th>\n",
              "      <td>Dick</td>\n",
              "      <td>30</td>\n",
              "    </tr>\n",
              "    <tr>\n",
              "      <th>2</th>\n",
              "      <td>Harry</td>\n",
              "      <td>40</td>\n",
              "    </tr>\n",
              "  </tbody>\n",
              "</table>\n",
              "</div>"
            ],
            "text/plain": [
              "    name  age\n",
              "0    Tom   20\n",
              "1   Dick   30\n",
              "2  Harry   40"
            ]
          },
          "metadata": {
            "tags": []
          },
          "execution_count": 13
        }
      ]
    },
    {
      "cell_type": "code",
      "metadata": {
        "colab": {
          "base_uri": "https://localhost:8080/"
        },
        "id": "t0X585UCY_RV",
        "outputId": "58ff7abf-99fe-490f-f82e-c1ac27bfb970"
      },
      "source": [
        "#Get data at 3rd row\n",
        "print(df.iloc[2,:])"
      ],
      "execution_count": null,
      "outputs": [
        {
          "output_type": "stream",
          "text": [
            "name    Harry\n",
            "age        40\n",
            "Name: 2, dtype: object\n"
          ],
          "name": "stdout"
        }
      ]
    },
    {
      "cell_type": "code",
      "metadata": {
        "colab": {
          "base_uri": "https://localhost:8080/"
        },
        "id": "9O_46tG8ZQkM",
        "outputId": "2a42054e-f2ce-4600-eec8-9d9c91211ca6"
      },
      "source": [
        "#get the data at 1st column\n",
        "print(df.iloc[:,0])"
      ],
      "execution_count": null,
      "outputs": [
        {
          "output_type": "stream",
          "text": [
            "0      Tom\n",
            "1     Dick\n",
            "2    Harry\n",
            "Name: name, dtype: object\n"
          ],
          "name": "stdout"
        }
      ]
    },
    {
      "cell_type": "code",
      "metadata": {
        "colab": {
          "base_uri": "https://localhost:8080/"
        },
        "id": "gJFwh-oaZdT2",
        "outputId": "f822212b-f13c-4272-ece1-77f523fc8d53"
      },
      "source": [
        "#get the 3rd row, 1st column\n",
        "print(df.iloc[2,0])"
      ],
      "execution_count": null,
      "outputs": [
        {
          "output_type": "stream",
          "text": [
            "Harry\n"
          ],
          "name": "stdout"
        }
      ]
    },
    {
      "cell_type": "code",
      "metadata": {
        "colab": {
          "base_uri": "https://localhost:8080/",
          "height": 142
        },
        "id": "z9zrX0VAaWmv",
        "outputId": "ffdc81b4-f077-4820-c3cf-85de672a53b4"
      },
      "source": [
        "#add a new column in dataframe with same value in rows\n",
        "df['gender']='Male'\n",
        "df"
      ],
      "execution_count": null,
      "outputs": [
        {
          "output_type": "execute_result",
          "data": {
            "text/html": [
              "<div>\n",
              "<style scoped>\n",
              "    .dataframe tbody tr th:only-of-type {\n",
              "        vertical-align: middle;\n",
              "    }\n",
              "\n",
              "    .dataframe tbody tr th {\n",
              "        vertical-align: top;\n",
              "    }\n",
              "\n",
              "    .dataframe thead th {\n",
              "        text-align: right;\n",
              "    }\n",
              "</style>\n",
              "<table border=\"1\" class=\"dataframe\">\n",
              "  <thead>\n",
              "    <tr style=\"text-align: right;\">\n",
              "      <th></th>\n",
              "      <th>name</th>\n",
              "      <th>age</th>\n",
              "      <th>gender</th>\n",
              "    </tr>\n",
              "  </thead>\n",
              "  <tbody>\n",
              "    <tr>\n",
              "      <th>0</th>\n",
              "      <td>Tom</td>\n",
              "      <td>20</td>\n",
              "      <td>Male</td>\n",
              "    </tr>\n",
              "    <tr>\n",
              "      <th>1</th>\n",
              "      <td>Dick</td>\n",
              "      <td>30</td>\n",
              "      <td>Male</td>\n",
              "    </tr>\n",
              "    <tr>\n",
              "      <th>2</th>\n",
              "      <td>Harry</td>\n",
              "      <td>40</td>\n",
              "      <td>Male</td>\n",
              "    </tr>\n",
              "  </tbody>\n",
              "</table>\n",
              "</div>"
            ],
            "text/plain": [
              "    name  age gender\n",
              "0    Tom   20   Male\n",
              "1   Dick   30   Male\n",
              "2  Harry   40   Male"
            ]
          },
          "metadata": {
            "tags": []
          },
          "execution_count": 18
        }
      ]
    },
    {
      "cell_type": "code",
      "metadata": {
        "colab": {
          "base_uri": "https://localhost:8080/"
        },
        "id": "Qq3YZZIhalci",
        "outputId": "5c8aad3c-8033-46b8-ef34-6bd257cc188a"
      },
      "source": [
        "#Get the data of name column\n",
        "df['name']"
      ],
      "execution_count": null,
      "outputs": [
        {
          "output_type": "execute_result",
          "data": {
            "text/plain": [
              "0      Tom\n",
              "1     Dick\n",
              "2    Harry\n",
              "Name: name, dtype: object"
            ]
          },
          "metadata": {
            "tags": []
          },
          "execution_count": 19
        }
      ]
    },
    {
      "cell_type": "code",
      "metadata": {
        "colab": {
          "base_uri": "https://localhost:8080/"
        },
        "id": "Yrf9FwjDbHLF",
        "outputId": "161bd046-ff16-42f3-f435-3b3e400c70e8"
      },
      "source": [
        "#get all the column name of dataframe\n",
        "print(df.columns)"
      ],
      "execution_count": null,
      "outputs": [
        {
          "output_type": "stream",
          "text": [
            "Index(['name', 'age', 'gender'], dtype='object')\n"
          ],
          "name": "stdout"
        }
      ]
    },
    {
      "cell_type": "code",
      "metadata": {
        "colab": {
          "base_uri": "https://localhost:8080/",
          "height": 173
        },
        "id": "dXgI1xRtq7CJ",
        "outputId": "08995445-d1c6-4c0d-dde5-977ffb49eca9"
      },
      "source": [
        "#import python package and create a data frame\n",
        "import numpy as np\n",
        "import pandas as pd\n",
        "data = {\n",
        "    'name': ['Tom','Dick','Harry','Rakul'],\n",
        "    'score1': [100,20,40,30],\n",
        "    'score2': [80,70,60,50]\n",
        "}\n",
        "df = pd.DataFrame(data=data, columns=['name','score1','score2'])\n",
        "df"
      ],
      "execution_count": null,
      "outputs": [
        {
          "output_type": "execute_result",
          "data": {
            "text/html": [
              "<div>\n",
              "<style scoped>\n",
              "    .dataframe tbody tr th:only-of-type {\n",
              "        vertical-align: middle;\n",
              "    }\n",
              "\n",
              "    .dataframe tbody tr th {\n",
              "        vertical-align: top;\n",
              "    }\n",
              "\n",
              "    .dataframe thead th {\n",
              "        text-align: right;\n",
              "    }\n",
              "</style>\n",
              "<table border=\"1\" class=\"dataframe\">\n",
              "  <thead>\n",
              "    <tr style=\"text-align: right;\">\n",
              "      <th></th>\n",
              "      <th>name</th>\n",
              "      <th>score1</th>\n",
              "      <th>score2</th>\n",
              "    </tr>\n",
              "  </thead>\n",
              "  <tbody>\n",
              "    <tr>\n",
              "      <th>0</th>\n",
              "      <td>Tom</td>\n",
              "      <td>100</td>\n",
              "      <td>80</td>\n",
              "    </tr>\n",
              "    <tr>\n",
              "      <th>1</th>\n",
              "      <td>Dick</td>\n",
              "      <td>20</td>\n",
              "      <td>70</td>\n",
              "    </tr>\n",
              "    <tr>\n",
              "      <th>2</th>\n",
              "      <td>Harry</td>\n",
              "      <td>40</td>\n",
              "      <td>60</td>\n",
              "    </tr>\n",
              "    <tr>\n",
              "      <th>3</th>\n",
              "      <td>Rakul</td>\n",
              "      <td>30</td>\n",
              "      <td>50</td>\n",
              "    </tr>\n",
              "  </tbody>\n",
              "</table>\n",
              "</div>"
            ],
            "text/plain": [
              "    name  score1  score2\n",
              "0    Tom     100      80\n",
              "1   Dick      20      70\n",
              "2  Harry      40      60\n",
              "3  Rakul      30      50"
            ]
          },
          "metadata": {
            "tags": []
          },
          "execution_count": 29
        }
      ]
    },
    {
      "cell_type": "code",
      "metadata": {
        "colab": {
          "base_uri": "https://localhost:8080/"
        },
        "id": "FclM2DGdsHZ2",
        "outputId": "054b0809-6995-4748-c45c-3d9ee4389831"
      },
      "source": [
        "#get the size of dataframe\n",
        "print(df.shape)"
      ],
      "execution_count": null,
      "outputs": [
        {
          "output_type": "stream",
          "text": [
            "(4, 3)\n"
          ],
          "name": "stdout"
        }
      ]
    },
    {
      "cell_type": "code",
      "metadata": {
        "colab": {
          "base_uri": "https://localhost:8080/"
        },
        "id": "tGsQRXv6snCP",
        "outputId": "67421fe8-06d0-435f-84f7-c08d0c8ba367"
      },
      "source": [
        "#get no of rows and cols\n",
        "print(\"#Rows:\",df.shape[0])\n",
        "print(\"#Cols:\",df.shape[1])"
      ],
      "execution_count": null,
      "outputs": [
        {
          "output_type": "stream",
          "text": [
            "#Rows: 4\n",
            "#Cols: 3\n"
          ],
          "name": "stdout"
        }
      ]
    },
    {
      "cell_type": "code",
      "metadata": {
        "colab": {
          "base_uri": "https://localhost:8080/"
        },
        "id": "Bn81sWi0tbPk",
        "outputId": "05fdf63a-e04e-41b1-a5ee-80c607700fa0"
      },
      "source": [
        "#Sort dataframe by one column\n",
        "print(df.sort_values(\"score1\"))"
      ],
      "execution_count": null,
      "outputs": [
        {
          "output_type": "stream",
          "text": [
            "    name  score1  score2\n",
            "1   Dick      20      70\n",
            "3  Rakul      30      50\n",
            "2  Harry      40      60\n",
            "0    Tom     100      80\n"
          ],
          "name": "stdout"
        }
      ]
    },
    {
      "cell_type": "code",
      "metadata": {
        "colab": {
          "base_uri": "https://localhost:8080/"
        },
        "id": "0mLAfOuEvkd3",
        "outputId": "9f1fc0b3-bbea-4f79-f743-4ef0ca66e842"
      },
      "source": [
        "#Sort by index\n",
        "print(df.sort_index)"
      ],
      "execution_count": null,
      "outputs": [
        {
          "output_type": "stream",
          "text": [
            "<bound method DataFrame.sort_index of     name  score1  score2\n",
            "0    Tom     100      80\n",
            "1   Dick      20      70\n",
            "2  Harry      40      60\n",
            "3  Rakul      30      50>\n"
          ],
          "name": "stdout"
        }
      ]
    },
    {
      "cell_type": "code",
      "metadata": {
        "colab": {
          "base_uri": "https://localhost:8080/"
        },
        "id": "UG-8V2Gtv9lm",
        "outputId": "84f97629-9194-4040-e9a1-5a776085c82e"
      },
      "source": [
        "#Get first row of dataframe\n",
        "print(df[0:1])\n",
        "#Get last row of dataframe\n",
        "print(df[-1:])\n",
        "#Get 2nd to 4th row of dataframe\n",
        "print(df[1:4])"
      ],
      "execution_count": null,
      "outputs": [
        {
          "output_type": "stream",
          "text": [
            "  name  score1  score2\n",
            "0  Tom     100      80\n",
            "    name  score1  score2\n",
            "3  Rakul      30      50\n",
            "    name  score1  score2\n",
            "1   Dick      20      70\n",
            "2  Harry      40      60\n",
            "3  Rakul      30      50\n"
          ],
          "name": "stdout"
        }
      ]
    }
  ]
}