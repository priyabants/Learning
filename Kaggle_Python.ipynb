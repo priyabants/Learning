{
  "nbformat": 4,
  "nbformat_minor": 0,
  "metadata": {
    "colab": {
      "name": "Kaggle_Python.ipynb",
      "provenance": [],
      "collapsed_sections": [],
      "authorship_tag": "ABX9TyNC3x0zA8GT3mE34XuSTrRR",
      "include_colab_link": true
    },
    "kernelspec": {
      "name": "python3",
      "display_name": "Python 3"
    },
    "language_info": {
      "name": "python"
    }
  },
  "cells": [
    {
      "cell_type": "markdown",
      "metadata": {
        "id": "view-in-github",
        "colab_type": "text"
      },
      "source": [
        "<a href=\"https://colab.research.google.com/github/priyabants/Learning/blob/main/Kaggle_Python.ipynb\" target=\"_parent\"><img src=\"https://colab.research.google.com/assets/colab-badge.svg\" alt=\"Open In Colab\"/></a>"
      ]
    },
    {
      "cell_type": "code",
      "metadata": {
        "colab": {
          "base_uri": "https://localhost:8080/"
        },
        "id": "7OVjQG546atF",
        "outputId": "b8c21054-07e0-4318-b1de-65a52f651c90"
      },
      "source": [
        "spam_amount = 0\n",
        "print(spam_amount)\n",
        "\n",
        "# Ordering Spam, egg, Spam, Spam, bacon and Spam (4 more servings of Spam)\n",
        "spam_amount = spam_amount + 4\n",
        "\n",
        "if spam_amount > 0:\n",
        "    print(\"But I don't want ANY spam!\")\n",
        "\n",
        "viking_song = \"Spam \" * spam_amount\n",
        "print(viking_song)\n",
        "print(type(viking_song))\n",
        "print(spam_amount)"
      ],
      "execution_count": null,
      "outputs": [
        {
          "output_type": "stream",
          "text": [
            "0\n",
            "But I don't want ANY spam!\n",
            "Spam Spam Spam Spam \n",
            "<class 'str'>\n",
            "4\n"
          ],
          "name": "stdout"
        }
      ]
    },
    {
      "cell_type": "code",
      "metadata": {
        "id": "fr527slI7P3x"
      },
      "source": [
        "#No variable declaration before assigning\n",
        "#No need to mention type of value a variable gonna hold\n",
        "#can be re-assigned with different sort of value\n",
        "#print function with argument\n",
        "#Python comment #Comment\n",
        "#The colon (:) at the end of the if line - Subsequent lines which are indented are part of that code block\n",
        "#Strings can be marked either by double or single quotation marks.\n",
        "#in Python 3*3 == 9, where \"a\"* 3= aaa\n",
        "#type - built in function"
      ],
      "execution_count": null,
      "outputs": []
    },
    {
      "cell_type": "code",
      "metadata": {
        "colab": {
          "base_uri": "https://localhost:8080/"
        },
        "id": "zjjKSjZF-pNc",
        "outputId": "203ecf01-873e-4543-8c6d-69fe38a9a686"
      },
      "source": [
        "print(5/2)\n",
        "print(5//2)\n",
        "\n",
        "print(-5/2)\n",
        "print(-5//2)"
      ],
      "execution_count": null,
      "outputs": [
        {
          "output_type": "stream",
          "text": [
            "2.5\n",
            "2\n",
            "-2.5\n",
            "-3\n"
          ],
          "name": "stdout"
        }
      ]
    },
    {
      "cell_type": "code",
      "metadata": {
        "colab": {
          "base_uri": "https://localhost:8080/"
        },
        "id": "kYuFwL6uF_Kz",
        "outputId": "88ae7fc4-530a-4924-8a01-32a3e68895c2"
      },
      "source": [
        "print(min(1, 2, 3))\n",
        "print(max(1, 2, 3))\n",
        "print(abs(32))\n",
        "print(float(10))\n",
        "print(int(3.33))\n",
        "# They can even be called on strings!\n",
        "print(int('807') + 1)"
      ],
      "execution_count": null,
      "outputs": [
        {
          "output_type": "stream",
          "text": [
            "1\n",
            "3\n",
            "32\n",
            "10.0\n",
            "3\n",
            "808\n"
          ],
          "name": "stdout"
        }
      ]
    },
    {
      "cell_type": "code",
      "metadata": {
        "colab": {
          "base_uri": "https://localhost:8080/"
        },
        "id": "I0kO2m_2HLCT",
        "outputId": "363f987e-4b4a-4944-d73f-320017dbe35d"
      },
      "source": [
        "pi = 3.14159 # approximate\n",
        "diameter = 3\n",
        "\n",
        "# Create a variable called 'radius' equal to half the diameter\n",
        "radius = 0.5 * diameter\n",
        "\n",
        "\n",
        "# Create a variable called 'area', using the formula for the area of a circle: pi times the radius squared\n",
        "area = pi * (radius**2)\n",
        "\n",
        "\n",
        "print(area)"
      ],
      "execution_count": null,
      "outputs": [
        {
          "output_type": "stream",
          "text": [
            "7.0685775\n"
          ],
          "name": "stdout"
        }
      ]
    },
    {
      "cell_type": "markdown",
      "metadata": {
        "id": "xXYB6ULtNNgy"
      },
      "source": [
        "###Function"
      ]
    },
    {
      "cell_type": "code",
      "metadata": {
        "colab": {
          "base_uri": "https://localhost:8080/"
        },
        "id": "tMZiCq38NRKQ",
        "outputId": "44435eb3-bd97-4eed-dc92-e4318b0cb755"
      },
      "source": [
        "def least_difference(a, b, c):\n",
        "    diff1 = abs(a - b)\n",
        "    diff2 = abs(b - c)\n",
        "    diff3 = abs(a - c)\n",
        "    return min(diff1, diff2, diff3)\n",
        "print(\n",
        "    least_difference(1, 10, 100),\n",
        "    least_difference(1, 10, 10),\n",
        "    least_difference(5, 6, 7), # Python allows trailing commas in argument lists. How nice is that?\n",
        ")\n",
        "#help(least_difference)"
      ],
      "execution_count": null,
      "outputs": [
        {
          "output_type": "stream",
          "text": [
            "9 0 1\n"
          ],
          "name": "stdout"
        }
      ]
    },
    {
      "cell_type": "code",
      "metadata": {
        "colab": {
          "base_uri": "https://localhost:8080/"
        },
        "id": "MVjNa6VSTE3-",
        "outputId": "e4309387-f21b-43fa-f45d-20d5f80b9410"
      },
      "source": [
        "def least_difference(a, b, c):\n",
        "    \"\"\"Return the smallest difference between any two numbers\n",
        "    among a, b and c.\n",
        "    \"\"\"\n",
        "    diff1 = abs(a - b)\n",
        "    diff2 = abs(b - c)\n",
        "    diff3 = abs(a - c)\n",
        "    min(diff1, diff2, diff3)\n",
        "    \n",
        "print(\n",
        "    least_difference(1, 10, 100),\n",
        "    least_difference(1, 10, 10),\n",
        "    least_difference(5, 6, 7),\n",
        ")"
      ],
      "execution_count": null,
      "outputs": [
        {
          "output_type": "stream",
          "text": [
            "None None None\n"
          ],
          "name": "stdout"
        }
      ]
    },
    {
      "cell_type": "code",
      "metadata": {
        "colab": {
          "base_uri": "https://localhost:8080/"
        },
        "id": "W9uiK1xpTa5W",
        "outputId": "3772ab37-4d4a-401b-fced-4d7eb9c3d016"
      },
      "source": [
        "print(1, 2, 3, sep=' < ')\n",
        "print(1, 2, 3) #default sep is ' ' (single space)"
      ],
      "execution_count": null,
      "outputs": [
        {
          "output_type": "stream",
          "text": [
            "1 < 2 < 3\n",
            "1 2 3\n"
          ],
          "name": "stdout"
        }
      ]
    },
    {
      "cell_type": "code",
      "metadata": {
        "colab": {
          "base_uri": "https://localhost:8080/"
        },
        "id": "HC2CzqGYUY4n",
        "outputId": "7e8bdd8b-b24f-47ae-9353-f35c744ae1a5"
      },
      "source": [
        "#optional arguments with default values\n",
        "def greet(who=\"Colin\"):\n",
        "    print(\"Hello,\", who)\n",
        "    \n",
        "greet()\n",
        "greet(who=\"Kaggle\")\n",
        "# (In this case, we don't need to specify the name of the argument, because it's unambiguous.)\n",
        "greet(\"world\")"
      ],
      "execution_count": null,
      "outputs": [
        {
          "output_type": "stream",
          "text": [
            "Hello, Colin\n",
            "Hello, Kaggle\n",
            "Hello, world\n"
          ],
          "name": "stdout"
        }
      ]
    },
    {
      "cell_type": "code",
      "metadata": {
        "colab": {
          "base_uri": "https://localhost:8080/"
        },
        "id": "_lwmP9VXVg1f",
        "outputId": "f9e2fc70-f701-421e-ebb2-632dbdd94056"
      },
      "source": [
        "#Functions Applied to Functions\n",
        "def mult_by_five(x):\n",
        "    return 5 * x\n",
        "\n",
        "def call(fn, arg):\n",
        "    \"\"\"Call fn on arg\"\"\"\n",
        "    return fn(arg)\n",
        "\n",
        "def squared_call(fn, arg):\n",
        "    \"\"\"Call fn on the result of calling fn on arg\"\"\"\n",
        "    return fn(fn(arg))\n",
        "\n",
        "print(\n",
        "    call(mult_by_five, 1),\n",
        "    squared_call(mult_by_five, 1), \n",
        "    sep='\\n', # '\\n' is the newline character - it starts a new line\n",
        ")"
      ],
      "execution_count": null,
      "outputs": [
        {
          "output_type": "stream",
          "text": [
            "5\n",
            "25\n"
          ],
          "name": "stdout"
        }
      ]
    },
    {
      "cell_type": "code",
      "metadata": {
        "colab": {
          "base_uri": "https://localhost:8080/"
        },
        "id": "QMfyRf-rWJmU",
        "outputId": "f279e579-25ca-4d62-8a63-d13b00680c1a"
      },
      "source": [
        "def mod_5(x):\n",
        "    \"\"\"Return the remainder of x after dividing by 5\"\"\"\n",
        "    return x % 5\n",
        "\n",
        "print(\n",
        "    'Which number is biggest?',\n",
        "    max(100, 51, 14),\n",
        "    'Which number is the biggest modulo 5?',\n",
        "    max(100, 51, 14, key=mod_5),\n",
        "    sep='\\n',\n",
        ")"
      ],
      "execution_count": null,
      "outputs": [
        {
          "output_type": "stream",
          "text": [
            "Which number is biggest?\n",
            "100\n",
            "Which number is the biggest modulo 5?\n",
            "14\n"
          ],
          "name": "stdout"
        }
      ]
    },
    {
      "cell_type": "code",
      "metadata": {
        "colab": {
          "base_uri": "https://localhost:8080/"
        },
        "id": "O0rL9BCqX664",
        "outputId": "2d58d199-d21b-4f95-d075-939bc0717e69"
      },
      "source": [
        "def round_to_two_places(num):\n",
        "    \"\"\"Return the given number rounded to two decimal places. \n",
        "    \n",
        "    >>> round_to_two_places(3.14159)\n",
        "    3.14\n",
        "    \"\"\"\n",
        "    return round(num,ndigits=2)\n",
        "    \n",
        "round_to_two_places(3.14159)"
      ],
      "execution_count": null,
      "outputs": [
        {
          "output_type": "execute_result",
          "data": {
            "text/plain": [
              "3.14"
            ]
          },
          "metadata": {
            "tags": []
          },
          "execution_count": 15
        }
      ]
    },
    {
      "cell_type": "code",
      "metadata": {
        "colab": {
          "base_uri": "https://localhost:8080/"
        },
        "id": "-8u1X1fpZOcd",
        "outputId": "5c6a3cdc-1c20-4fc0-93ce-abfd18f195cf"
      },
      "source": [
        "print(round(123456,ndigits=-1))\n",
        "print(round(123446,ndigits=-2))\n",
        "print(round(123456,ndigits=-3))\n",
        "#ndigits=-1 rounds to the nearest 10, ndigits=-2 rounds to the nearest 100 and so on\n",
        "#useful in :We probably don't care whether it's really 338,424, or 338,425, or 338,177. \n",
        "#All those digits of accuracy are just distracting. We can chop them off by calling round() with ndigits=-3:"
      ],
      "execution_count": null,
      "outputs": [
        {
          "output_type": "stream",
          "text": [
            "123460\n",
            "123400\n",
            "123000\n"
          ],
          "name": "stdout"
        }
      ]
    },
    {
      "cell_type": "code",
      "metadata": {
        "id": "0Nl4xjNYbp2U",
        "colab": {
          "base_uri": "https://localhost:8080/"
        },
        "outputId": "3cca535a-3576-4619-ec67-94a247ba3684"
      },
      "source": [
        "x = -10\n",
        "y = 5\n",
        "# # Which of the two variables above has the smallest absolute value?\n",
        "smallest_abs = min(abs(x), abs(y))\n",
        "print(smallest_abs)"
      ],
      "execution_count": null,
      "outputs": [
        {
          "output_type": "stream",
          "text": [
            "5\n"
          ],
          "name": "stdout"
        }
      ]
    },
    {
      "cell_type": "markdown",
      "metadata": {
        "id": "clBcr6cumvKN"
      },
      "source": [
        "###Boolean"
      ]
    },
    {
      "cell_type": "code",
      "metadata": {
        "colab": {
          "base_uri": "https://localhost:8080/"
        },
        "id": "E3NIKCKJmw-Q",
        "outputId": "b5bfdf68-54e3-48d9-d96e-d2d4c8eaa93d"
      },
      "source": [
        "x = True\n",
        "print(x)\n",
        "print(type(x))"
      ],
      "execution_count": 18,
      "outputs": [
        {
          "output_type": "stream",
          "text": [
            "True\n",
            "<class 'bool'>\n"
          ],
          "name": "stdout"
        }
      ]
    },
    {
      "cell_type": "code",
      "metadata": {
        "colab": {
          "base_uri": "https://localhost:8080/"
        },
        "id": "rnvhQZ3pnKdW",
        "outputId": "8d383d3b-d041-4e07-9ccf-957f1f20fe49"
      },
      "source": [
        "def can_run_for_president(age):\n",
        "    \"\"\"Can someone of the given age run for president in the US?\"\"\"\n",
        "    # The US Constitution says you must be at least 35 years old\n",
        "    return age >= 35\n",
        "\n",
        "print(\"Can a 19-year-old run for president?\", can_run_for_president(19))\n",
        "print(\"Can a 45-year-old run for president?\", can_run_for_president(45))"
      ],
      "execution_count": 19,
      "outputs": [
        {
          "output_type": "stream",
          "text": [
            "Can a 19-year-old run for president? False\n",
            "Can a 45-year-old run for president? True\n"
          ],
          "name": "stdout"
        }
      ]
    },
    {
      "cell_type": "code",
      "metadata": {
        "colab": {
          "base_uri": "https://localhost:8080/"
        },
        "id": "EFSMfrf7oTsm",
        "outputId": "76cde99e-cd0b-48fd-e30a-c0a7d9a77adf"
      },
      "source": [
        "def is_odd(n):\n",
        "    return (n % 2) == 1\n",
        "\n",
        "print(\"Is 100 odd?\", is_odd(100))\n",
        "print(\"Is -1 odd?\", is_odd(-1))"
      ],
      "execution_count": 20,
      "outputs": [
        {
          "output_type": "stream",
          "text": [
            "Is 100 odd? False\n",
            "Is -1 odd? True\n"
          ],
          "name": "stdout"
        }
      ]
    },
    {
      "cell_type": "code",
      "metadata": {
        "colab": {
          "base_uri": "https://localhost:8080/"
        },
        "id": "HbblzkHrouyW",
        "outputId": "5d9ef1dd-ccd4-4305-8d79-71de7006c8f8"
      },
      "source": [
        "True or True and False"
      ],
      "execution_count": 21,
      "outputs": [
        {
          "output_type": "execute_result",
          "data": {
            "text/plain": [
              "True"
            ]
          },
          "metadata": {
            "tags": []
          },
          "execution_count": 21
        }
      ]
    },
    {
      "cell_type": "markdown",
      "metadata": {
        "id": "0_ikr0vjpGAA"
      },
      "source": [
        "###Condition"
      ]
    },
    {
      "cell_type": "code",
      "metadata": {
        "colab": {
          "base_uri": "https://localhost:8080/"
        },
        "id": "w4C9NnWzpIA1",
        "outputId": "f245d4b2-cfe9-4a9a-c596-ced984b1935f"
      },
      "source": [
        "def inspect(x):\n",
        "    if x == 0:\n",
        "        print(x, \"is zero\")\n",
        "    elif x > 0:\n",
        "        print(x, \"is positive\")\n",
        "    elif x < 0:\n",
        "        print(x, \"is negative\")\n",
        "    else:\n",
        "        print(x, \"is unlike anything I've ever seen...\")\n",
        "\n",
        "inspect(0)\n",
        "inspect(-15)"
      ],
      "execution_count": 22,
      "outputs": [
        {
          "output_type": "stream",
          "text": [
            "0 is zero\n",
            "-15 is negative\n"
          ],
          "name": "stdout"
        }
      ]
    },
    {
      "cell_type": "code",
      "metadata": {
        "colab": {
          "base_uri": "https://localhost:8080/"
        },
        "id": "YO0_WyQOqUuM",
        "outputId": "573f9493-77cf-40c0-e6c7-748feefa67d5"
      },
      "source": [
        "print(bool(1)) # all numbers are treated as true, except 0\n",
        "print(bool(0))\n",
        "print(bool(\"asf\")) # all strings are treated as true, except the empty string \"\"\n",
        "print(bool(\"\"))\n",
        "# Generally empty sequences (strings, lists, and other types we've yet to see like lists and tuples)\n",
        "# are \"falsey\" and the rest are \"truthy\""
      ],
      "execution_count": 23,
      "outputs": [
        {
          "output_type": "stream",
          "text": [
            "True\n",
            "False\n",
            "True\n",
            "False\n"
          ],
          "name": "stdout"
        }
      ]
    },
    {
      "cell_type": "code",
      "metadata": {
        "colab": {
          "base_uri": "https://localhost:8080/"
        },
        "id": "RcbpBnEUq-26",
        "outputId": "ff2c144b-199a-4888-cd30-20d7391c3ca3"
      },
      "source": [
        "if 0:\n",
        "    print(0)\n",
        "elif \"spam\":\n",
        "    print(\"spam\")"
      ],
      "execution_count": 24,
      "outputs": [
        {
          "output_type": "stream",
          "text": [
            "spam\n"
          ],
          "name": "stdout"
        }
      ]
    },
    {
      "cell_type": "code",
      "metadata": {
        "id": "CwdJTACdsv8b"
      },
      "source": [
        "def to_smash(total_candies):\n",
        "    \"\"\"Return the number of leftover candies that must be smashed after distributing\n",
        "    the given number of candies evenly between 3 friends.\n",
        "    \n",
        "    >>> to_smash(91)\n",
        "    1\n",
        "    \"\"\"\n",
        "    if total_candies==1:\n",
        "        print(\"Splitting\", total_candies, \"candy\")\n",
        "    else:\n",
        "        print(\"Splitting\", total_candies, \"candies\")\n",
        "    \n",
        "    #print(\"Splitting\", total_candies, \"candy\" if total_candies == 1 else \"candies\")\n",
        "\n",
        "    return total_candies % 3\n",
        "\n",
        "to_smash(91)\n",
        "to_smash(1)"
      ],
      "execution_count": null,
      "outputs": []
    },
    {
      "cell_type": "markdown",
      "metadata": {
        "id": "1FDbGTyXxY9x"
      },
      "source": [
        "###List"
      ]
    },
    {
      "cell_type": "code",
      "metadata": {
        "colab": {
          "base_uri": "https://localhost:8080/"
        },
        "id": "jQZRi2ROxaPl",
        "outputId": "f47c29e9-5484-43b3-d165-1c987c454dad"
      },
      "source": [
        "#Lists in Python represent ordered sequences of values\n",
        "primes = [2, 3, 5, 7, 11]\n",
        "prime=[2,'a',help]\n",
        "#Indexing - access individual list elements with square brackets.\n",
        "primes[0] == 2\n",
        "primes[-1] == 7\n",
        "#slicing\n",
        "primes[0:3] #1st 3 elements [include:exclude]\n",
        "primes[:3] #same as above, if not written start=0 and end index is the last one\n",
        "primes[3:-1] #-veindexing = from 3rd to end except last\n",
        "primes[-3:] #the last 3 elements"
      ],
      "execution_count": 3,
      "outputs": [
        {
          "output_type": "execute_result",
          "data": {
            "text/plain": [
              "[5, 7, 11]"
            ]
          },
          "metadata": {
            "tags": []
          },
          "execution_count": 3
        }
      ]
    },
    {
      "cell_type": "code",
      "metadata": {
        "colab": {
          "base_uri": "https://localhost:8080/"
        },
        "id": "E0iwy_Il17SU",
        "outputId": "d141d8a7-472d-4ae7-b5a4-1bcf42a6fee2"
      },
      "source": [
        "#List are Mutable - can be changed/updated\n",
        "#One way to modify a list is to assign to an index or slice expression.\n",
        "primes[2] = 13\n",
        "primes\n",
        "primes[:3] = [19,17,29]\n",
        "primes"
      ],
      "execution_count": 5,
      "outputs": [
        {
          "output_type": "execute_result",
          "data": {
            "text/plain": [
              "[19, 17, 29, 7, 11]"
            ]
          },
          "metadata": {
            "tags": []
          },
          "execution_count": 5
        }
      ]
    },
    {
      "cell_type": "code",
      "metadata": {
        "colab": {
          "base_uri": "https://localhost:8080/"
        },
        "id": "8oTwAImq3QXv",
        "outputId": "2fd0f003-dbaf-4bbe-e9b6-dcd80f2bed10"
      },
      "source": [
        "#List Function\n",
        "print(len(primes))\n",
        "print(sorted(primes))\n",
        "print(sum(primes))\n",
        "print(min(primes))\n",
        "print(max(primes))"
      ],
      "execution_count": 13,
      "outputs": [
        {
          "output_type": "stream",
          "text": [
            "5\n",
            "[7, 11, 17, 19, 29]\n",
            "83\n",
            "7\n",
            "29\n"
          ],
          "name": "stdout"
        }
      ]
    },
    {
      "cell_type": "code",
      "metadata": {
        "colab": {
          "base_uri": "https://localhost:8080/"
        },
        "id": "6TYVCKLR4Tzl",
        "outputId": "74041748-07e1-4acf-bfc3-d96d60b0f0f4"
      },
      "source": [
        "#Object\n",
        "#In python everything is object. Objects carry some things around with them. You access that stuff using Python's dot syntax.\n",
        "x = 12\n",
        "# x is a real number, so its imaginary part is 0.\n",
        "print(x.imag)\n",
        "# Here's how to make a complex number, in case you've ever been curious:\n",
        "c = 12 + 3j\n",
        "print(c.imag)\n",
        "#The things an object carries around can also include functions. \n",
        "#A function attached to an object is called a method. \n",
        "#(Non-function things attached to an object, such as imag, are called attributes).\n",
        "x.bit_length()\n",
        "help(x.bit_length)"
      ],
      "execution_count": 17,
      "outputs": [
        {
          "output_type": "stream",
          "text": [
            "0\n",
            "3.0\n",
            "Help on built-in function bit_length:\n",
            "\n",
            "bit_length() method of builtins.int instance\n",
            "    Number of bits necessary to represent self in binary.\n",
            "    \n",
            "    >>> bin(37)\n",
            "    '0b100101'\n",
            "    >>> (37).bit_length()\n",
            "    6\n",
            "\n"
          ],
          "name": "stdout"
        }
      ]
    },
    {
      "cell_type": "code",
      "metadata": {
        "colab": {
          "base_uri": "https://localhost:8080/"
        },
        "id": "c-yKxLNo-XfC",
        "outputId": "b1fd74da-b57f-4b20-abd1-2d1f64cd6a93"
      },
      "source": [
        "#List Methods\n",
        "#list.append modifies a list by adding an item to the end:\n",
        "primes.append(43)\n",
        "print(primes)\n",
        "#list.pop removes and returns the last element of a list:\n",
        "primes.pop()\n",
        "print(primes)\n",
        "\n",
        "#help(len) correct but not help(append). append name only exists within list. help(list_name.append) is correct"
      ],
      "execution_count": 26,
      "outputs": [
        {
          "output_type": "stream",
          "text": [
            "[19, 17, 29, 7, 43]\n",
            "[19, 17, 29, 7]\n"
          ],
          "name": "stdout"
        }
      ]
    },
    {
      "cell_type": "code",
      "metadata": {
        "colab": {
          "base_uri": "https://localhost:8080/"
        },
        "id": "P2cXT9tZ_SiX",
        "outputId": "7a21cd5d-b69a-4b81-91c5-d5a9a9acdbb3"
      },
      "source": [
        "#Searching lists\n",
        "print(primes.index(17))\n",
        "#primes.index(4)  #ValueError: 4 is not in list\n",
        "#use the in operator to determine whether a list contains a particular value:\n",
        "print(17 in primes)\n",
        "prime(4 in primes)"
      ],
      "execution_count": 31,
      "outputs": [
        {
          "output_type": "stream",
          "text": [
            "1\n"
          ],
          "name": "stdout"
        },
        {
          "output_type": "execute_result",
          "data": {
            "text/plain": [
              "False"
            ]
          },
          "metadata": {
            "tags": []
          },
          "execution_count": 31
        }
      ]
    },
    {
      "cell_type": "code",
      "metadata": {
        "colab": {
          "base_uri": "https://localhost:8080/"
        },
        "id": "fcEqHaQQE97F",
        "outputId": "302c8149-6f9b-45bb-b37c-d8d651b5e08e"
      },
      "source": [
        "#Tuples\n",
        "#same as list but differe in:\n",
        "  #1: The syntax for creating them uses parentheses instead of square brackets\n",
        "  #2: They cannot be modified (they are immutable).\n",
        "t = (1, 2, 3)\n",
        "t\n",
        "#t[0] = 100 error\n",
        "a = 1\n",
        "b = 0\n",
        "a, b = b, a\n",
        "print(a, b)"
      ],
      "execution_count": 33,
      "outputs": [
        {
          "output_type": "stream",
          "text": [
            "0 1\n"
          ],
          "name": "stdout"
        }
      ]
    },
    {
      "cell_type": "code",
      "metadata": {
        "id": "TVat2GYzJ7Yw"
      },
      "source": [
        "#Return the second element of the given list. If the list has no second element, return None\n",
        "if len(L) > 2:\n",
        "    return L[1]\n",
        "return None\n",
        "\n",
        "#reverse list of 3 elements\n",
        "temp = racers[0]\n",
        "racers[0] = racers[-1]\n",
        "racers[-1] = temp"
      ],
      "execution_count": null,
      "outputs": []
    },
    {
      "cell_type": "markdown",
      "metadata": {
        "id": "WeWWOShhQbfV"
      },
      "source": [
        "###Loops and List Comprehensions"
      ]
    },
    {
      "cell_type": "code",
      "metadata": {
        "colab": {
          "base_uri": "https://localhost:8080/"
        },
        "id": "SF3-9hn7Qc0A",
        "outputId": "09b30879-db23-4059-a8ed-b69426f8edb7"
      },
      "source": [
        "planets = ['Mercury', 'Venus', 'Earth', 'Mars', 'Jupiter', 'Saturn', 'Uranus', 'Neptune']\n",
        "for planet in planets:\n",
        "    print(planet, end=' ') # print all on same line"
      ],
      "execution_count": 34,
      "outputs": [
        {
          "output_type": "stream",
          "text": [
            "Mercury Venus Earth Mars Jupiter Saturn Uranus Neptune "
          ],
          "name": "stdout"
        }
      ]
    },
    {
      "cell_type": "code",
      "metadata": {
        "colab": {
          "base_uri": "https://localhost:8080/"
        },
        "id": "3oglFsTzd09i",
        "outputId": "aa56d382-354e-44e1-dfaf-82237b761240"
      },
      "source": [
        "multiplicands = (2, 2, 2, 3, 3, 5)\n",
        "product = 1\n",
        "for mult in multiplicands:\n",
        "    product = product * mult\n",
        "product"
      ],
      "execution_count": 35,
      "outputs": [
        {
          "output_type": "execute_result",
          "data": {
            "text/plain": [
              "360"
            ]
          },
          "metadata": {
            "tags": []
          },
          "execution_count": 35
        }
      ]
    },
    {
      "cell_type": "code",
      "metadata": {
        "colab": {
          "base_uri": "https://localhost:8080/"
        },
        "id": "h-lTbKNBebfy",
        "outputId": "830fcf10-662b-43e4-f1bf-4fc11e2e09da"
      },
      "source": [
        "# print all the uppercase letters in s, one at a time\n",
        "s = 'steganograpHy is the practicE of conceaLing a file, message, image, or video within another fiLe, message, image, Or video.'\n",
        "msg = ''\n",
        "for char in s:\n",
        "    if char.isupper():\n",
        "        print(char, end='') "
      ],
      "execution_count": 36,
      "outputs": [
        {
          "output_type": "stream",
          "text": [
            "HELLO"
          ],
          "name": "stdout"
        }
      ]
    },
    {
      "cell_type": "code",
      "metadata": {
        "colab": {
          "base_uri": "https://localhost:8080/"
        },
        "id": "f2ZQ2_ujfcs5",
        "outputId": "257fbaa3-5227-4947-bf23-039b8d97db84"
      },
      "source": [
        "#range() - function that returns a sequence of numbers\n",
        "for i in range(5):\n",
        "    print(\"Doing important work. i =\", i)"
      ],
      "execution_count": 37,
      "outputs": [
        {
          "output_type": "stream",
          "text": [
            "Doing important work. i = 0\n",
            "Doing important work. i = 1\n",
            "Doing important work. i = 2\n",
            "Doing important work. i = 3\n",
            "Doing important work. i = 4\n"
          ],
          "name": "stdout"
        }
      ]
    },
    {
      "cell_type": "code",
      "metadata": {
        "colab": {
          "base_uri": "https://localhost:8080/"
        },
        "id": "ytQ0Jw2-fk3R",
        "outputId": "2e58b855-eaee-424a-fdaf-4d1aeedcee12"
      },
      "source": [
        "i = 0\n",
        "while i < 10:\n",
        "    print(i, end=' ')\n",
        "    i += 1"
      ],
      "execution_count": 38,
      "outputs": [
        {
          "output_type": "stream",
          "text": [
            "0 1 2 3 4 5 6 7 8 9 "
          ],
          "name": "stdout"
        }
      ]
    },
    {
      "cell_type": "code",
      "metadata": {
        "colab": {
          "base_uri": "https://localhost:8080/"
        },
        "id": "XAQIlVk1gEPu",
        "outputId": "998769a8-652e-4483-9ad1-bb3a588d8bd1"
      },
      "source": [
        "#List comprehensions\n",
        "squares = []\n",
        "for n in range(10):\n",
        "    squares.append(n**2)\n",
        "squares\n",
        "\n",
        "#above can be written using list comprehension\n",
        "squares = [n**2 for n in range(10)]\n",
        "squares"
      ],
      "execution_count": 39,
      "outputs": [
        {
          "output_type": "execute_result",
          "data": {
            "text/plain": [
              "[0, 1, 4, 9, 16, 25, 36, 49, 64, 81]"
            ]
          },
          "metadata": {
            "tags": []
          },
          "execution_count": 39
        }
      ]
    },
    {
      "cell_type": "code",
      "metadata": {
        "colab": {
          "base_uri": "https://localhost:8080/"
        },
        "id": "sYe1AXszhqs9",
        "outputId": "ad882e39-5359-4549-e7aa-c7a62d29fada"
      },
      "source": [
        "short_planets = [planet for planet in planets if len(planet) < 6]\n",
        "short_planets\n",
        "\n",
        "# str.upper() returns an all-caps version of a string\n",
        "loud_short_planets = [planet.upper() + '!' for planet in planets if len(planet) < 6]\n",
        "loud_short_planets"
      ],
      "execution_count": 41,
      "outputs": [
        {
          "output_type": "execute_result",
          "data": {
            "text/plain": [
              "['VENUS!', 'EARTH!', 'MARS!']"
            ]
          },
          "metadata": {
            "tags": []
          },
          "execution_count": 41
        }
      ]
    },
    {
      "cell_type": "code",
      "metadata": {
        "id": "MiGZNCfAlMwl"
      },
      "source": [
        "def count_negatives(nums):\n",
        "    \"\"\"Return the number of negative numbers in the given list.\n",
        "    \n",
        "    >>> count_negatives([5, -1, -2, 0, 3])\n",
        "    2\n",
        "    \"\"\"\n",
        "    n_negative = 0\n",
        "    for num in nums:\n",
        "        if num < 0:\n",
        "            n_negative = n_negative + 1\n",
        "    return n_negative\n",
        "\n",
        "\n",
        "def count_negatives(nums):\n",
        "    return len([num for num in nums if num < 0])"
      ],
      "execution_count": null,
      "outputs": []
    },
    {
      "cell_type": "code",
      "metadata": {
        "id": "ueadlKjSoEQY"
      },
      "source": [
        "def has_lucky_number(nums):\n",
        "    for num in nums:\n",
        "        if num % 7 == 0:\n",
        "            return True\n",
        "    # We've exhausted the list without finding a lucky number\n",
        "    return False\n",
        "\n",
        "def has_lucky_number(nums):\n",
        "    return any([num % 7 == 0 for num in nums])\n",
        "\n",
        "help(any) #any(iterable, /)\n",
        "    #Return True if bool(x) is True for any x in the iterable.\n",
        "    \n",
        "    #If the iterable is empty, return False.\n",
        "\n",
        "def elementwise_greater_than(L, thresh):\n",
        "    \"\"\"Return a list with the same length as L, where the value at index i is \n",
        "    True if L[i] is greater than thresh, and False otherwise.\n",
        "    \n",
        "    >>> elementwise_greater_than([1, 2, 3, 4], 2)\n",
        "    [False, False, True, True]\n",
        "    \"\"\"\n",
        "    return [i>thresh for i in L]"
      ],
      "execution_count": null,
      "outputs": []
    },
    {
      "cell_type": "markdown",
      "metadata": {
        "id": "kzXrASAeuQtI"
      },
      "source": [
        "###Strings & Dictionaries "
      ]
    },
    {
      "cell_type": "code",
      "metadata": {
        "colab": {
          "base_uri": "https://localhost:8080/"
        },
        "id": "Rp08ATPSuaiw",
        "outputId": "5054e716-dcd4-43be-ffd1-c5d1cfb49e60"
      },
      "source": [
        "x = 'Pluto is a planet'\n",
        "y = \"Pluto is a planet\"\n",
        "x == y"
      ],
      "execution_count": 1,
      "outputs": [
        {
          "output_type": "execute_result",
          "data": {
            "text/plain": [
              "True"
            ]
          },
          "metadata": {
            "tags": []
          },
          "execution_count": 1
        }
      ]
    },
    {
      "cell_type": "code",
      "metadata": {
        "id": "CEYlhDmw8fwo"
      },
      "source": [
        "'Pluto\\'s a planet!' #\"escaping\" the single quote with a backslash.\n",
        "#   What you type...\t  What you get\t  example\t                print(example)\n",
        "#     \\'\t                  '\t        'What\\'s up?'\t            What's up?\n",
        "#     \\\"\t                  \"\t        \"That's \\\"cool\\\"\"\t        That's \"cool\"\n",
        "#     \\\\\t                  \\\t        \"Look, a mountain: /\\\\\"\t  Look, a mountain: /\\\n",
        "#     \\n\t                             \"1\\n2 3\"\t                1\n",
        "                                                                2 3\n",
        "\n",
        "hello = \"hello\\nworld\"\n",
        "print(hello)\n",
        "\n",
        "#Python's triple quote syntax for strings lets us include newlines literally \n",
        "#(i.e. by just hitting 'Enter' on our keyboard, rather than using the special '\\n' sequence). \n",
        "#We've already seen this in the docstrings we use to document our functions, but we can use them anywhere we want to define a string.\n",
        "triplequoted_hello = \"\"\"hello\n",
        "world\"\"\"\n",
        "print(triplequoted_hello)\n",
        "triplequoted_hello == hello"
      ],
      "execution_count": null,
      "outputs": []
    },
    {
      "cell_type": "code",
      "metadata": {
        "colab": {
          "base_uri": "https://localhost:8080/"
        },
        "id": "5hQma687lN-v",
        "outputId": "0522c607-cc5c-4258-f90e-2d54d625be36"
      },
      "source": [
        "print(\"hello\")\n",
        "print(\"world\")\n",
        "print(\"hello\", end='')\n",
        "print(\"pluto\", end='')"
      ],
      "execution_count": 2,
      "outputs": [
        {
          "output_type": "stream",
          "text": [
            "hello\n",
            "world\n",
            "hellopluto"
          ],
          "name": "stdout"
        }
      ]
    },
    {
      "cell_type": "code",
      "metadata": {
        "colab": {
          "base_uri": "https://localhost:8080/"
        },
        "id": "sjCtSVDV-E0E",
        "outputId": "712f29f5-02ab-46b3-abd8-987007b1b2f6"
      },
      "source": [
        "#Strings are sequences of characters\n",
        "# Indexing\n",
        "planet = 'Pluto'\n",
        "planet[0]\n",
        "# Yes, we can even loop over them\n",
        "[char+'! ' for char in planet]\n",
        "\n",
        "#But a major way in which they differ from lists is that they are immutable. We can't modify them.\n",
        "#planet[0] = 'B'   #error\n",
        "# planet.append doesn't work either"
      ],
      "execution_count": 6,
      "outputs": [
        {
          "output_type": "execute_result",
          "data": {
            "text/plain": [
              "['P! ', 'l! ', 'u! ', 't! ', 'o! ']"
            ]
          },
          "metadata": {
            "tags": []
          },
          "execution_count": 6
        }
      ]
    },
    {
      "cell_type": "code",
      "metadata": {
        "id": "Adfti5tWBzIf"
      },
      "source": [
        "#String methods\n",
        "# ALL CAPS\n",
        "claim = \"Pluto is a planet!\"\n",
        "claim.upper()\n",
        "# all lowercase\n",
        "claim.lower()\n",
        "# Searching for the first index of a substring\n",
        "claim.index('plan')   #11\n",
        "claim.startswith(planet)  #True\n",
        "claim.endswith('dwarf planet')    #False\n",
        "words = claim.split()   #split by space\n",
        "words   #['Pluto', 'is', 'a', 'planet!']\n",
        "datestr = '1956-01-31'\n",
        "year, month, day = datestr.split('-')\n",
        "'/'.join([month, day, year])      #'01/31/1956'\n",
        "#Python lets us concatenate strings with the + operator.\n",
        "planet + ', we miss you.'       #'Pluto, we miss you.'\n",
        "#If we want to throw in any non-string objects, we have to be careful to call str() on them first\n",
        "position = 9\n",
        "planet + \", you'll always be the \" + str(position) + \"th planet to me.\"     #\"Pluto, you'll always be the 9th planet to me.\"\n",
        "\"{}, you'll always be the {}th planet to me.\".format(planet, position)    #\"Pluto, you'll always be the 9th planet to me.\"\n",
        "#Notice how we didn't even have to call str() to convert position from an int. format() takes care of that for us.\n",
        "\n"
      ],
      "execution_count": null,
      "outputs": []
    },
    {
      "cell_type": "code",
      "metadata": {
        "colab": {
          "base_uri": "https://localhost:8080/",
          "height": 35
        },
        "id": "gctaymUrGiaH",
        "outputId": "cf452ca1-6fbc-4dbe-f119-75e9a2ace4d3"
      },
      "source": [
        "pluto_mass = 1.303 * 10**22\n",
        "earth_mass = 5.9722 * 10**24\n",
        "population = 52910390\n",
        "#         2 decimal points   3 decimal points, format as percent     separate with commas\n",
        "\"{} weighs about {:.2} kilograms ({:.3%} of Earth's mass). It is home to {:,} Plutonians.\".format(\n",
        "    planet, pluto_mass, pluto_mass / earth_mass, population,\n",
        ")"
      ],
      "execution_count": 7,
      "outputs": [
        {
          "output_type": "execute_result",
          "data": {
            "application/vnd.google.colaboratory.intrinsic+json": {
              "type": "string"
            },
            "text/plain": [
              "\"Pluto weighs about 1.3e+22 kilograms (0.218% of Earth's mass). It is home to 52,910,390 Plutonians.\""
            ]
          },
          "metadata": {
            "tags": []
          },
          "execution_count": 7
        }
      ]
    },
    {
      "cell_type": "code",
      "metadata": {
        "colab": {
          "base_uri": "https://localhost:8080/"
        },
        "id": "ogmbMY-6HToj",
        "outputId": "208cc328-29f5-4e08-e257-551b490db40c"
      },
      "source": [
        "# Referring to format() arguments by index, starting from 0\n",
        "s = \"\"\"Pluto's a {0}.\n",
        "No, it's a {1}.\n",
        "{0}!\n",
        "{1}!\"\"\".format('planet', 'dwarf planet')\n",
        "print(s)"
      ],
      "execution_count": 8,
      "outputs": [
        {
          "output_type": "stream",
          "text": [
            "Pluto's a planet.\n",
            "No, it's a dwarf planet.\n",
            "planet!\n",
            "dwarf planet!\n"
          ],
          "name": "stdout"
        }
      ]
    },
    {
      "cell_type": "code",
      "metadata": {
        "colab": {
          "base_uri": "https://localhost:8080/"
        },
        "id": "vzb1ZIS4Iakl",
        "outputId": "18ad693f-70d8-416b-9b76-1d94f29174cb"
      },
      "source": [
        "#Dictionaries.  - Dictionaries are a built-in Python data structure for mapping keys to values.\n",
        "numbers = {'one':1, 'two':2, 'three':3}\n",
        "print(numbers['one'])\n",
        "\n",
        "#add another key\n",
        "numbers['eleven'] = 11\n",
        "print(numbers)\n",
        "\n",
        "#update value\n",
        "numbers['one'] = 'Pluto'\n",
        "print(numbers)\n",
        "\n",
        "planets = ['Mercury', 'Venus', 'Earth']\n",
        "planet_to_initial = {planet: planet[0] for planet in planets}\n",
        "print(planet_to_initial)\n",
        "\n",
        "#The in operator tells us whether something is a key in the dictionary\n",
        "print('Saturn' in planet_to_initial)\n",
        "\n",
        "#A for loop over a dictionary will loop over its keys\n",
        "for k in numbers:\n",
        "    print(\"{} = {}\".format(k, numbers[k]))\n",
        "\n",
        "#We can access a collection of all the keys or all the values with dict.keys() and dict.values(), respectively.\n",
        "# Get all the initials, sort them alphabetically, and put them in a space-separated string.\n",
        "print(' '.join(sorted(planet_to_initial.values())))\n",
        "\n",
        "#The very useful dict.items() method lets us iterate over the keys and values of a dictionary simultaneously. (In Python jargon, an item refers to a key, value pair)\n",
        "for planet, initial in planet_to_initial.items():\n",
        "    print(\"{} begins with \\\"{}\\\"\".format(planet.rjust(10), initial))"
      ],
      "execution_count": 9,
      "outputs": [
        {
          "output_type": "stream",
          "text": [
            "1\n",
            "{'one': 1, 'two': 2, 'three': 3, 'eleven': 11}\n",
            "{'one': 'Pluto', 'two': 2, 'three': 3, 'eleven': 11}\n",
            "{'Mercury': 'M', 'Venus': 'V', 'Earth': 'E'}\n",
            "False\n",
            "one = Pluto\n",
            "two = 2\n",
            "three = 3\n",
            "eleven = 11\n",
            "E M V\n",
            "   Mercury begins with \"M\"\n",
            "     Venus begins with \"V\"\n",
            "     Earth begins with \"E\"\n"
          ],
          "name": "stdout"
        }
      ]
    },
    {
      "cell_type": "code",
      "metadata": {
        "id": "eSfEwduzMYC5"
      },
      "source": [
        "def is_valid_zip(zip_code):\n",
        "    \"\"\"Returns whether the input string is a valid (5 digit) zip code\n",
        "    \"\"\"\n",
        "    return len(zip_str) == 5 and zip_str.isdigit()\n",
        "\n",
        "\n",
        "\n",
        "def word_search(doc_list, keyword):\n",
        "    \"\"\"\n",
        "    Takes a list of documents (each document is a string) and a keyword. \n",
        "    Returns list of the index values into the original list for all documents \n",
        "    containing the keyword.\n",
        "\n",
        "    Example:\n",
        "    doc_list = [\"The Learn Python Challenge Casino.\", \"They bought a car\", \"Casinoville\"]\n",
        "    >>> word_search(doc_list, 'casino')\n",
        "    >>> [0]\n",
        "    \"\"\"\n",
        "    # list to hold the indices of matching documents\n",
        "    indices = [] \n",
        "    # Iterate through the indices (i) and elements (doc) of documents\n",
        "    for i, doc in enumerate(doc_list):\n",
        "        # Split the string doc into a list of words (according to whitespace)\n",
        "        tokens = doc.split()\n",
        "        # Make a transformed list where we 'normalize' each word to facilitate matching.\n",
        "        # Periods and commas are removed from the end of each word, and it's set to all lowercase.\n",
        "        normalized = [token.rstrip('.,').lower() for token in tokens]\n",
        "        # Is there a match? If so, update the list of matching indices.\n",
        "        if keyword.lower() in normalized:\n",
        "            indices.append(i)\n",
        "    return indices\n",
        "\n",
        "\n",
        "\n",
        "def multi_word_search(doc_list, keywords):\n",
        "    \"\"\"\n",
        "    Takes list of documents (each document is a string) and a list of keywords.  \n",
        "    Returns a dictionary where each key is a keyword, and the value is a list of indices\n",
        "    (from doc_list) of the documents containing that keyword\n",
        "\n",
        "    >>> doc_list = [\"The Learn Python Challenge Casino.\", \"They bought a car and a casino\", \"Casinoville\"]\n",
        "    >>> keywords = ['casino', 'they']\n",
        "    >>> multi_word_search(doc_list, keywords)\n",
        "    {'casino': [0, 1], 'they': [1]}\n",
        "    \"\"\"\n",
        "    keyword_to_indices = {}\n",
        "    for keyword in keywords:\n",
        "        keyword_to_indices[keyword] = word_search(doc_list, keyword)\n",
        "    return keyword_to_indices\n"
      ],
      "execution_count": 11,
      "outputs": []
    },
    {
      "cell_type": "code",
      "metadata": {
        "id": "acgN9qDyP0OX"
      },
      "source": [
        ""
      ],
      "execution_count": 10,
      "outputs": []
    }
  ]
}